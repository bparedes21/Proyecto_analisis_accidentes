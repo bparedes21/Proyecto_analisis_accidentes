{
 "cells": [
  {
   "cell_type": "code",
   "execution_count": 1,
   "metadata": {},
   "outputs": [],
   "source": [
    "import pandas as pd\n",
    "import numpy as np\n",
    "import matplotlib.pyplot as plt"
   ]
  },
  {
   "cell_type": "code",
   "execution_count": 2,
   "metadata": {},
   "outputs": [],
   "source": [
    "import funciones_py\n",
    "import Transformar_datos_de_accidentes"
   ]
  },
  {
   "cell_type": "code",
   "execution_count": 3,
   "metadata": {},
   "outputs": [],
   "source": [
    "url=\"https://drive.google.com/file/d/1nwi5fbJzJrX9Ml9oOuHY53mLwBmGNszF/view?usp=sharing\""
   ]
  },
  {
   "cell_type": "code",
   "execution_count": 8,
   "metadata": {},
   "outputs": [],
   "source": [
    "URL_datos=funciones_py.generar_url_descarga_de_achivo(url)"
   ]
  },
  {
   "cell_type": "code",
   "execution_count": 9,
   "metadata": {},
   "outputs": [],
   "source": [
    "df_accidentes=pd.read_csv(URL_datos)"
   ]
  },
  {
   "cell_type": "code",
   "execution_count": 10,
   "metadata": {},
   "outputs": [
    {
     "name": "stderr",
     "output_type": "stream",
     "text": [
      "c:\\Users\\roxy_\\OneDrive\\Escritorio\\Nueva carpeta (2)\\git-pi03\\funciones_py.py:19: SettingWithCopyWarning: \n",
      "A value is trying to be set on a copy of a slice from a DataFrame.\n",
      "Try using .loc[row_indexer,col_indexer] = value instead\n",
      "\n",
      "See the caveats in the documentation: https://pandas.pydata.org/pandas-docs/stable/user_guide/indexing.html#returning-a-view-versus-a-copy\n",
      "  dfg[\"empresa\"]=empresa\n",
      "c:\\Users\\roxy_\\OneDrive\\Escritorio\\Nueva carpeta (2)\\git-pi03\\funciones_py.py:19: SettingWithCopyWarning: \n",
      "A value is trying to be set on a copy of a slice from a DataFrame.\n",
      "Try using .loc[row_indexer,col_indexer] = value instead\n",
      "\n",
      "See the caveats in the documentation: https://pandas.pydata.org/pandas-docs/stable/user_guide/indexing.html#returning-a-view-versus-a-copy\n",
      "  dfg[\"empresa\"]=empresa\n",
      "c:\\Users\\roxy_\\OneDrive\\Escritorio\\Nueva carpeta (2)\\git-pi03\\funciones_py.py:19: SettingWithCopyWarning: \n",
      "A value is trying to be set on a copy of a slice from a DataFrame.\n",
      "Try using .loc[row_indexer,col_indexer] = value instead\n",
      "\n",
      "See the caveats in the documentation: https://pandas.pydata.org/pandas-docs/stable/user_guide/indexing.html#returning-a-view-versus-a-copy\n",
      "  dfg[\"empresa\"]=empresa\n",
      "c:\\Users\\roxy_\\OneDrive\\Escritorio\\Nueva carpeta (2)\\git-pi03\\funciones_py.py:19: SettingWithCopyWarning: \n",
      "A value is trying to be set on a copy of a slice from a DataFrame.\n",
      "Try using .loc[row_indexer,col_indexer] = value instead\n",
      "\n",
      "See the caveats in the documentation: https://pandas.pydata.org/pandas-docs/stable/user_guide/indexing.html#returning-a-view-versus-a-copy\n",
      "  dfg[\"empresa\"]=empresa\n",
      "c:\\Users\\roxy_\\OneDrive\\Escritorio\\Nueva carpeta (2)\\git-pi03\\funciones_py.py:19: SettingWithCopyWarning: \n",
      "A value is trying to be set on a copy of a slice from a DataFrame.\n",
      "Try using .loc[row_indexer,col_indexer] = value instead\n",
      "\n",
      "See the caveats in the documentation: https://pandas.pydata.org/pandas-docs/stable/user_guide/indexing.html#returning-a-view-versus-a-copy\n",
      "  dfg[\"empresa\"]=empresa\n",
      "c:\\Users\\roxy_\\OneDrive\\Escritorio\\Nueva carpeta (2)\\git-pi03\\funciones_py.py:19: SettingWithCopyWarning: \n",
      "A value is trying to be set on a copy of a slice from a DataFrame.\n",
      "Try using .loc[row_indexer,col_indexer] = value instead\n",
      "\n",
      "See the caveats in the documentation: https://pandas.pydata.org/pandas-docs/stable/user_guide/indexing.html#returning-a-view-versus-a-copy\n",
      "  dfg[\"empresa\"]=empresa\n",
      "c:\\Users\\roxy_\\OneDrive\\Escritorio\\Nueva carpeta (2)\\git-pi03\\funciones_py.py:19: SettingWithCopyWarning: \n",
      "A value is trying to be set on a copy of a slice from a DataFrame.\n",
      "Try using .loc[row_indexer,col_indexer] = value instead\n",
      "\n",
      "See the caveats in the documentation: https://pandas.pydata.org/pandas-docs/stable/user_guide/indexing.html#returning-a-view-versus-a-copy\n",
      "  dfg[\"empresa\"]=empresa\n",
      "c:\\Users\\roxy_\\OneDrive\\Escritorio\\Nueva carpeta (2)\\git-pi03\\funciones_py.py:19: SettingWithCopyWarning: \n",
      "A value is trying to be set on a copy of a slice from a DataFrame.\n",
      "Try using .loc[row_indexer,col_indexer] = value instead\n",
      "\n",
      "See the caveats in the documentation: https://pandas.pydata.org/pandas-docs/stable/user_guide/indexing.html#returning-a-view-versus-a-copy\n",
      "  dfg[\"empresa\"]=empresa\n",
      "c:\\Users\\roxy_\\OneDrive\\Escritorio\\Nueva carpeta (2)\\git-pi03\\funciones_py.py:19: SettingWithCopyWarning: \n",
      "A value is trying to be set on a copy of a slice from a DataFrame.\n",
      "Try using .loc[row_indexer,col_indexer] = value instead\n",
      "\n",
      "See the caveats in the documentation: https://pandas.pydata.org/pandas-docs/stable/user_guide/indexing.html#returning-a-view-versus-a-copy\n",
      "  dfg[\"empresa\"]=empresa\n"
     ]
    }
   ],
   "source": [
    "new_df=Transformar_datos_de_accidentes.transformar_df_aviones(df_accidentes)\n",
    "df_accidentes=pd.DataFrame()\n",
    "df_accidentes=new_df.copy"
   ]
  },
  {
   "cell_type": "markdown",
   "metadata": {},
   "source": [
    "veo el porcentaje de nulos por cada columna "
   ]
  },
  {
   "cell_type": "code",
   "execution_count": 6,
   "metadata": {},
   "outputs": [
    {
     "data": {
      "text/plain": [
       "flight_no               73.522364\n",
       "Time                    30.031949\n",
       "Route                   15.215655\n",
       "cn_ln                   13.318690\n",
       "registration             5.431310\n",
       "crew_fatalities          4.692492\n",
       "passenger_fatalities     4.692492\n",
       "passengers_aboard        4.412939\n",
       "crew_aboard              4.373003\n",
       "summary                  1.178115\n",
       "ground                   0.878594\n",
       "all_aboard               0.339457\n",
       "Type                     0.259585\n",
       "Operator                 0.199681\n",
       "all_fatalities           0.159744\n",
       "Ruta                     0.099840\n",
       "Date                     0.000000\n",
       "Unnamed: 0               0.000000\n",
       "dtype: float64"
      ]
     },
     "execution_count": 6,
     "metadata": {},
     "output_type": "execute_result"
    }
   ],
   "source": [
    "len_csv=df_accidentes.shape\n",
    "is_null=((df_accidentes.isnull().sum())*100)/len_csv[0]\n",
    "is_null.sort_values(ascending=False)"
   ]
  },
  {
   "cell_type": "code",
   "execution_count": null,
   "metadata": {},
   "outputs": [],
   "source": [
    "sheet1.shape"
   ]
  },
  {
   "cell_type": "markdown",
   "metadata": {},
   "source": [
    "veo las 5 primeras filas"
   ]
  },
  {
   "cell_type": "code",
   "execution_count": 8,
   "metadata": {},
   "outputs": [
    {
     "data": {
      "text/html": [
       "<div>\n",
       "<style scoped>\n",
       "    .dataframe tbody tr th:only-of-type {\n",
       "        vertical-align: middle;\n",
       "    }\n",
       "\n",
       "    .dataframe tbody tr th {\n",
       "        vertical-align: top;\n",
       "    }\n",
       "\n",
       "    .dataframe thead th {\n",
       "        text-align: right;\n",
       "    }\n",
       "</style>\n",
       "<table border=\"1\" class=\"dataframe\">\n",
       "  <thead>\n",
       "    <tr style=\"text-align: right;\">\n",
       "      <th></th>\n",
       "      <th>Date</th>\n",
       "      <th>Time</th>\n",
       "      <th>Ruta</th>\n",
       "      <th>Operator</th>\n",
       "      <th>Type</th>\n",
       "      <th>all_aboard</th>\n",
       "      <th>passengers_aboard</th>\n",
       "      <th>crew_aboard</th>\n",
       "      <th>all_fatalities</th>\n",
       "      <th>passenger_fatalities</th>\n",
       "      <th>crew_fatalities</th>\n",
       "      <th>ground</th>\n",
       "      <th>summary</th>\n",
       "    </tr>\n",
       "  </thead>\n",
       "  <tbody>\n",
       "    <tr>\n",
       "      <th>0</th>\n",
       "      <td>September 17, 1908</td>\n",
       "      <td>1718</td>\n",
       "      <td>Fort Myer, Virginia</td>\n",
       "      <td>Military - U.S. Army</td>\n",
       "      <td>Wright Flyer III</td>\n",
       "      <td>2</td>\n",
       "      <td>1</td>\n",
       "      <td>1</td>\n",
       "      <td>1</td>\n",
       "      <td>1</td>\n",
       "      <td>0</td>\n",
       "      <td>0</td>\n",
       "      <td>During a demonstration flight, a U.S. Army fly...</td>\n",
       "    </tr>\n",
       "    <tr>\n",
       "      <th>1</th>\n",
       "      <td>September 07, 1909</td>\n",
       "      <td>NaN</td>\n",
       "      <td>Juvisy-sur-Orge, France</td>\n",
       "      <td>NaN</td>\n",
       "      <td>Wright Byplane</td>\n",
       "      <td>1</td>\n",
       "      <td>0</td>\n",
       "      <td>1</td>\n",
       "      <td>1</td>\n",
       "      <td>0</td>\n",
       "      <td>0</td>\n",
       "      <td>0</td>\n",
       "      <td>Eugene Lefebvre was the first pilot to ever be...</td>\n",
       "    </tr>\n",
       "    <tr>\n",
       "      <th>2</th>\n",
       "      <td>July 12, 1912</td>\n",
       "      <td>0630</td>\n",
       "      <td>Atlantic City, New Jersey</td>\n",
       "      <td>Military - U.S. Navy</td>\n",
       "      <td>Dirigible</td>\n",
       "      <td>5</td>\n",
       "      <td>0</td>\n",
       "      <td>5</td>\n",
       "      <td>5</td>\n",
       "      <td>0</td>\n",
       "      <td>5</td>\n",
       "      <td>0</td>\n",
       "      <td>First U.S. dirigible Akron exploded just offsh...</td>\n",
       "    </tr>\n",
       "    <tr>\n",
       "      <th>3</th>\n",
       "      <td>August 06, 1913</td>\n",
       "      <td>NaN</td>\n",
       "      <td>Victoria, British Columbia, Canada</td>\n",
       "      <td>Private</td>\n",
       "      <td>Curtiss seaplane</td>\n",
       "      <td>1</td>\n",
       "      <td>0</td>\n",
       "      <td>1</td>\n",
       "      <td>1</td>\n",
       "      <td>0</td>\n",
       "      <td>1</td>\n",
       "      <td>0</td>\n",
       "      <td>The first fatal airplane accident in Canada oc...</td>\n",
       "    </tr>\n",
       "    <tr>\n",
       "      <th>4</th>\n",
       "      <td>September 09, 1913</td>\n",
       "      <td>1830</td>\n",
       "      <td>Over the North Sea</td>\n",
       "      <td>Military - German Navy</td>\n",
       "      <td>Zeppelin L-1 (airship)</td>\n",
       "      <td>20</td>\n",
       "      <td>NaN</td>\n",
       "      <td>NaN</td>\n",
       "      <td>14</td>\n",
       "      <td>NaN</td>\n",
       "      <td>NaN</td>\n",
       "      <td>0</td>\n",
       "      <td>The airship flew into a thunderstorm and encou...</td>\n",
       "    </tr>\n",
       "  </tbody>\n",
       "</table>\n",
       "</div>"
      ],
      "text/plain": [
       "                 Date  Time                                Ruta  \\\n",
       "0  September 17, 1908  1718                 Fort Myer, Virginia   \n",
       "1  September 07, 1909   NaN             Juvisy-sur-Orge, France   \n",
       "2       July 12, 1912  0630           Atlantic City, New Jersey   \n",
       "3     August 06, 1913   NaN  Victoria, British Columbia, Canada   \n",
       "4  September 09, 1913  1830                  Over the North Sea   \n",
       "\n",
       "                 Operator                    Type all_aboard  \\\n",
       "0    Military - U.S. Army        Wright Flyer III          2   \n",
       "1                     NaN          Wright Byplane          1   \n",
       "2    Military - U.S. Navy               Dirigible          5   \n",
       "3                 Private        Curtiss seaplane          1   \n",
       "4  Military - German Navy  Zeppelin L-1 (airship)         20   \n",
       "\n",
       "  passengers_aboard crew_aboard all_fatalities passenger_fatalities  \\\n",
       "0                 1           1              1                    1   \n",
       "1                 0           1              1                    0   \n",
       "2                 0           5              5                    0   \n",
       "3                 0           1              1                    0   \n",
       "4               NaN         NaN             14                  NaN   \n",
       "\n",
       "  crew_fatalities ground                                            summary  \n",
       "0               0      0  During a demonstration flight, a U.S. Army fly...  \n",
       "1               0      0  Eugene Lefebvre was the first pilot to ever be...  \n",
       "2               5      0  First U.S. dirigible Akron exploded just offsh...  \n",
       "3               1      0  The first fatal airplane accident in Canada oc...  \n",
       "4             NaN      0  The airship flew into a thunderstorm and encou...  "
      ]
     },
     "execution_count": 8,
     "metadata": {},
     "output_type": "execute_result"
    }
   ],
   "source": [
    "sheet1.head(5)"
   ]
  },
  {
   "cell_type": "code",
   "execution_count": 18,
   "metadata": {},
   "outputs": [
    {
     "data": {
      "text/plain": [
       "Date                    0\n",
       "Time                    0\n",
       "Ruta                    0\n",
       "Operator                0\n",
       "Type                    0\n",
       "all_aboard              0\n",
       "passengers_aboard       0\n",
       "crew_aboard             0\n",
       "all_fatalities          0\n",
       "passenger_fatalities    0\n",
       "crew_fatalities         0\n",
       "ground                  0\n",
       "summary                 0\n",
       "año                     0\n",
       "dtype: int64"
      ]
     },
     "execution_count": 18,
     "metadata": {},
     "output_type": "execute_result"
    }
   ],
   "source": [
    "df_accidentes.isnull().sum()"
   ]
  },
  {
   "cell_type": "markdown",
   "metadata": {},
   "source": [
    "cuantos registros quedaron? de 5008 filas quedaron 4701 filas y de 18 columnas quedaron 14 columnas"
   ]
  },
  {
   "cell_type": "code",
   "execution_count": 19,
   "metadata": {},
   "outputs": [
    {
     "data": {
      "text/plain": [
       "(4701, 14)"
      ]
     },
     "execution_count": 19,
     "metadata": {},
     "output_type": "execute_result"
    }
   ],
   "source": [
    "df_accidentes.shape"
   ]
  },
  {
   "cell_type": "code",
   "execution_count": 20,
   "metadata": {},
   "outputs": [
    {
     "data": {
      "text/plain": [
       "Aeroflot                         244\n",
       "Military - U.S. Air Force        132\n",
       "Air France                        63\n",
       "Deutsche Lufthansa                60\n",
       "United Air Lines                  43\n",
       "                                ... \n",
       "Fragtflug                          1\n",
       "Aero Taxis Equatorianos            1\n",
       "Houston Metro Airlines             1\n",
       "Wenela Air Services                1\n",
       "Kamchatka Aviation Enterprise      1\n",
       "Name: Operator, Length: 2175, dtype: int64"
      ]
     },
     "execution_count": 20,
     "metadata": {},
     "output_type": "execute_result"
    }
   ],
   "source": [
    "df_accidentes.Operator.value_counts()"
   ]
  },
  {
   "cell_type": "code",
   "execution_count": 21,
   "metadata": {},
   "outputs": [
    {
     "data": {
      "text/plain": [
       "Douglas DC-3                                311\n",
       "de Havilland Canada DHC-6 Twin Otter 300     81\n",
       "Douglas C-47A                                69\n",
       "Douglas C-47                                 56\n",
       "Douglas DC-4                                 39\n",
       "                                           ... \n",
       "Boeing C-135B                                 1\n",
       "Lockheed P-2E Neptune                         1\n",
       "Sud Aviation Caravelle 3                      1\n",
       "Piper PA-23                                   1\n",
       "Antonov An 26B-100                            1\n",
       "Name: Type, Length: 2343, dtype: int64"
      ]
     },
     "execution_count": 21,
     "metadata": {},
     "output_type": "execute_result"
    }
   ],
   "source": [
    "new_sheet1.Type.value_counts()"
   ]
  },
  {
   "cell_type": "markdown",
   "metadata": {},
   "source": []
  },
  {
   "cell_type": "code",
   "execution_count": 40,
   "metadata": {},
   "outputs": [
    {
     "data": {
      "text/html": [
       "<div>\n",
       "<style scoped>\n",
       "    .dataframe tbody tr th:only-of-type {\n",
       "        vertical-align: middle;\n",
       "    }\n",
       "\n",
       "    .dataframe tbody tr th {\n",
       "        vertical-align: top;\n",
       "    }\n",
       "\n",
       "    .dataframe thead th {\n",
       "        text-align: right;\n",
       "    }\n",
       "</style>\n",
       "<table border=\"1\" class=\"dataframe\">\n",
       "  <thead>\n",
       "    <tr style=\"text-align: right;\">\n",
       "      <th></th>\n",
       "      <th></th>\n",
       "      <th>all_aboard</th>\n",
       "      <th>passengers_aboard</th>\n",
       "      <th>crew_aboard</th>\n",
       "      <th>passenger_fatalities</th>\n",
       "      <th>crew_fatalities</th>\n",
       "      <th>ground</th>\n",
       "      <th>año</th>\n",
       "    </tr>\n",
       "    <tr>\n",
       "      <th>empresa</th>\n",
       "      <th>all_fatalities</th>\n",
       "      <th></th>\n",
       "      <th></th>\n",
       "      <th></th>\n",
       "      <th></th>\n",
       "      <th></th>\n",
       "      <th></th>\n",
       "      <th></th>\n",
       "    </tr>\n",
       "  </thead>\n",
       "  <tbody>\n",
       "    <tr>\n",
       "      <th rowspan=\"5\" valign=\"top\">Antonov</th>\n",
       "      <th>0</th>\n",
       "      <td>4</td>\n",
       "      <td>0</td>\n",
       "      <td>4</td>\n",
       "      <td>0</td>\n",
       "      <td>0</td>\n",
       "      <td>2</td>\n",
       "      <td>2007</td>\n",
       "    </tr>\n",
       "    <tr>\n",
       "      <th>1</th>\n",
       "      <td>149</td>\n",
       "      <td>100</td>\n",
       "      <td>49</td>\n",
       "      <td>4</td>\n",
       "      <td>5</td>\n",
       "      <td>0</td>\n",
       "      <td>17961</td>\n",
       "    </tr>\n",
       "    <tr>\n",
       "      <th>2</th>\n",
       "      <td>229</td>\n",
       "      <td>176</td>\n",
       "      <td>53</td>\n",
       "      <td>7</td>\n",
       "      <td>9</td>\n",
       "      <td>230</td>\n",
       "      <td>15987</td>\n",
       "    </tr>\n",
       "    <tr>\n",
       "      <th>3</th>\n",
       "      <td>186</td>\n",
       "      <td>147</td>\n",
       "      <td>40</td>\n",
       "      <td>15</td>\n",
       "      <td>18</td>\n",
       "      <td>0</td>\n",
       "      <td>21978</td>\n",
       "    </tr>\n",
       "    <tr>\n",
       "      <th>4</th>\n",
       "      <td>132</td>\n",
       "      <td>102</td>\n",
       "      <td>30</td>\n",
       "      <td>14</td>\n",
       "      <td>14</td>\n",
       "      <td>0</td>\n",
       "      <td>14005</td>\n",
       "    </tr>\n",
       "    <tr>\n",
       "      <th>...</th>\n",
       "      <th>...</th>\n",
       "      <td>...</td>\n",
       "      <td>...</td>\n",
       "      <td>...</td>\n",
       "      <td>...</td>\n",
       "      <td>...</td>\n",
       "      <td>...</td>\n",
       "      <td>...</td>\n",
       "    </tr>\n",
       "    <tr>\n",
       "      <th rowspan=\"5\" valign=\"top\">Yakovlev</th>\n",
       "      <th>75</th>\n",
       "      <td>75</td>\n",
       "      <td>62</td>\n",
       "      <td>13</td>\n",
       "      <td>62</td>\n",
       "      <td>13</td>\n",
       "      <td>0</td>\n",
       "      <td>2003</td>\n",
       "    </tr>\n",
       "    <tr>\n",
       "      <th>82</th>\n",
       "      <td>86</td>\n",
       "      <td>81</td>\n",
       "      <td>5</td>\n",
       "      <td>77</td>\n",
       "      <td>5</td>\n",
       "      <td>0</td>\n",
       "      <td>1993</td>\n",
       "    </tr>\n",
       "    <tr>\n",
       "      <th>108</th>\n",
       "      <td>126</td>\n",
       "      <td>116</td>\n",
       "      <td>10</td>\n",
       "      <td>100</td>\n",
       "      <td>8</td>\n",
       "      <td>0</td>\n",
       "      <td>1992</td>\n",
       "    </tr>\n",
       "    <tr>\n",
       "      <th>116</th>\n",
       "      <td>116</td>\n",
       "      <td>108</td>\n",
       "      <td>8</td>\n",
       "      <td>108</td>\n",
       "      <td>8</td>\n",
       "      <td>0</td>\n",
       "      <td>1993</td>\n",
       "    </tr>\n",
       "    <tr>\n",
       "      <th>132</th>\n",
       "      <td>132</td>\n",
       "      <td>124</td>\n",
       "      <td>8</td>\n",
       "      <td>124</td>\n",
       "      <td>8</td>\n",
       "      <td>0</td>\n",
       "      <td>1982</td>\n",
       "    </tr>\n",
       "  </tbody>\n",
       "</table>\n",
       "<p>633 rows × 7 columns</p>\n",
       "</div>"
      ],
      "text/plain": [
       "                         all_aboard  passengers_aboard  crew_aboard  \\\n",
       "empresa  all_fatalities                                               \n",
       "Antonov  0                        4                  0            4   \n",
       "         1                      149                100           49   \n",
       "         2                      229                176           53   \n",
       "         3                      186                147           40   \n",
       "         4                      132                102           30   \n",
       "...                             ...                ...          ...   \n",
       "Yakovlev 75                      75                 62           13   \n",
       "         82                      86                 81            5   \n",
       "         108                    126                116           10   \n",
       "         116                    116                108            8   \n",
       "         132                    132                124            8   \n",
       "\n",
       "                         passenger_fatalities  crew_fatalities  ground    año  \n",
       "empresa  all_fatalities                                                        \n",
       "Antonov  0                                  0                0       2   2007  \n",
       "         1                                  4                5       0  17961  \n",
       "         2                                  7                9     230  15987  \n",
       "         3                                 15               18       0  21978  \n",
       "         4                                 14               14       0  14005  \n",
       "...                                       ...              ...     ...    ...  \n",
       "Yakovlev 75                                62               13       0   2003  \n",
       "         82                                77                5       0   1993  \n",
       "         108                              100                8       0   1992  \n",
       "         116                              108                8       0   1993  \n",
       "         132                              124                8       0   1982  \n",
       "\n",
       "[633 rows x 7 columns]"
      ]
     },
     "execution_count": 40,
     "metadata": {},
     "output_type": "execute_result"
    }
   ],
   "source": [
    "df_accidentes.groupby(by=[\"empresa\",\"all_fatalities\"]).sum()"
   ]
  },
  {
   "cell_type": "markdown",
   "metadata": {},
   "source": [
    "comparo la cantidad de fatalidades en total por empresas con mayor cantidad de fatalidades(8 y otras empresas)"
   ]
  },
  {
   "cell_type": "code",
   "execution_count": 33,
   "metadata": {},
   "outputs": [],
   "source": [
    "import seaborn as sns"
   ]
  },
  {
   "cell_type": "code",
   "execution_count": 59,
   "metadata": {},
   "outputs": [
    {
     "data": {
      "text/plain": [
       "<seaborn.axisgrid.FacetGrid at 0x1cf153c4ca0>"
      ]
     },
     "execution_count": 59,
     "metadata": {},
     "output_type": "execute_result"
    },
    {
     "data": {
      "image/png": "[encoded data removed]",
      "text/plain": [
       "<Figure size 712.8x2376 with 1 Axes>"
      ]
     },
     "metadata": {
      "needs_background": "light"
     },
     "output_type": "display_data"
    }
   ],
   "source": [
    "sns.catplot(data=sheet1, x=\"empresa\", y=\"all_fatalities\", kind=\"bar\", height=33, aspect=.3)"
   ]
  },
  {
   "cell_type": "markdown",
   "metadata": {},
   "source": [
    "Al ver que boeing es una de las empresas con mayor cantidad de fatalidades me interesa saber como es la empresa hoy en dia: Cuanto valen sus acciones?.\n",
    "Y que paso con sus competidores"
   ]
  }
 ],
 "metadata": {
  "kernelspec": {
   "display_name": "Python 3.10.2 64-bit",
   "language": "python",
   "name": "python3"
  },
  "language_info": {
   "codemirror_mode": {
    "name": "ipython",
    "version": 3
   },
   "file_extension": ".py",
   "mimetype": "text/x-python",
   "name": "python",
   "nbconvert_exporter": "python",
   "pygments_lexer": "ipython3",
   "version": "3.9.13"
  },
  "orig_nbformat": 4,
  "vscode": {
   "interpreter": {
    "hash": "369f2c481f4da34e4445cda3fffd2e751bd1c4d706f27375911949ba6bb62e1c"
   }
  }
 },
 "nbformat": 4,
 "nbformat_minor": 2
}
